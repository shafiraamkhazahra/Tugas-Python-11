{
  "nbformat": 4,
  "nbformat_minor": 0,
  "metadata": {
    "kernelspec": {
      "name": "python3",
      "display_name": "Python 3"
    },
    "language_info": {
      "codemirror_mode": {
        "name": "ipython",
        "version": 3
      },
      "file_extension": ".py",
      "mimetype": "text/x-python",
      "name": "python",
      "nbconvert_exporter": "python",
      "pygments_lexer": "ipython3",
      "version": "3.7.4"
    },
    "colab": {
      "name": "Shafira_Amkha_Zahra_TugasPython11",
      "provenance": [],
      "collapsed_sections": [],
      "include_colab_link": true
    },
    "accelerator": "GPU"
  },
  "cells": [
    {
      "cell_type": "markdown",
      "metadata": {
        "id": "view-in-github",
        "colab_type": "text"
      },
      "source": [
        "<a href=\"https://colab.research.google.com/github/shafiraamkhazahra/Tugas-Python-11/blob/main/Shafira_Amkha_Zahra_TugasPython11.ipynb\" target=\"_parent\"><img src=\"https://colab.research.google.com/assets/colab-badge.svg\" alt=\"Open In Colab\"/></a>"
      ]
    },
    {
      "cell_type": "code",
      "metadata": {
        "id": "xyiyd0kMooXM",
        "colab": {
          "base_uri": "https://localhost:8080/"
        },
        "outputId": "42d5081b-84c0-4058-b707-4fb06e45987c"
      },
      "source": [
        "from google.colab import drive\n",
        "drive.mount('/content/drive')"
      ],
      "execution_count": null,
      "outputs": [
        {
          "output_type": "stream",
          "text": [
            "Mounted at /content/drive\n"
          ],
          "name": "stdout"
        }
      ]
    },
    {
      "cell_type": "code",
      "metadata": {
        "id": "H215ikbNVVZS",
        "colab": {
          "base_uri": "https://localhost:8080/"
        },
        "outputId": "751e5442-94b7-45f4-8ed7-77bd553523bb"
      },
      "source": [
        "cd /content/drive/MyDrive"
      ],
      "execution_count": null,
      "outputs": [
        {
          "output_type": "stream",
          "text": [
            "/content/drive/MyDrive\n"
          ],
          "name": "stdout"
        }
      ]
    },
    {
      "cell_type": "code",
      "metadata": {
        "id": "z7VB1d4wVdov",
        "colab": {
          "base_uri": "https://localhost:8080/"
        },
        "outputId": "c904b90a-b62b-4117-e34a-7b27c7aef9e3"
      },
      "source": [
        "ls"
      ],
      "execution_count": null,
      "outputs": [
        {
          "output_type": "stream",
          "text": [
            "'00 Pengantar.pdf'\n",
            "'01 Barisan dan Deret.pdf'\n",
            " 02-hirarki_sentral_telepon.ppt\n",
            "'02 Persamaan Diferensial Orde I.pdf'\n",
            "'03 Persamaan Diferensial Orde II.pdf'\n",
            "'04 Fungsi Vektor.pdf'\n",
            "'05 Fungsi Dua Peubah.pdf'\n",
            "'06 Integral Lipat Dua.pdf'\n",
            "'07 Integral Lipat Tiga.pdf'\n",
            "'08 Integral Garis dan Permukaan.pdf'\n",
            " 0-introduction.pptx\n",
            "'1101194111 Registrasi _ Telkom University.PDF'\n",
            "'1101194111_SHAFIRA AMKHA ZAHRA_TUGAS 1A.m4a'\n",
            "'1101194111_Shafira Amkha Zahra_Tugas Induksi Medan Magnet (1).pdf'\n",
            "'1101194111_Shafira Amkha Zahra_Tugas Induksi Medan Magnet.pdf'\n",
            "'[1] Barisan dan Deret.pptx'\n",
            " 1UhgSkJiJ7DWyQbYVnosN9vvcLrsKZa0E.pdf\n",
            " 20190116_121744.jpg\n",
            "'2019-08-13 11.59.47 1.jpg'\n",
            " 20200718_100015.jpg\n",
            " 20200801_200901.jpg\n",
            " 20201017_203300.jpg\n",
            "'[2] Fungsi Vektor.pptx'\n",
            "'33228_30145_RPS PKn 3 agustus 2019 fix.pdf'\n",
            "'[3] Fungsi Dua Peubah.pptx'\n",
            "'[4] Teknik Pengintegralan.pptx'\n",
            "'[5] Integral Lipat 2.pptx'\n",
            "'[6] Integral Lipat 3.pptx'\n",
            "'97856_Prezi Iwakmas Final 4.0Prezzi.zip'\n",
            "'97858_Prezi Telyu Final 3.0.zip'\n",
            "'ABSENSI KEDATANGAN PANITIA TELDU 2020.docx'\n",
            " \u001b[0m\u001b[01;34mACARA\u001b[0m/\n",
            "\u001b[01;34m'Acara Yahuud'\u001b[0m/\n",
            " alpro.docx\n",
            "'Asterisk Sharing Session.PNG'\n",
            "'Bab 10-Bahan Magnet.pdf'\n",
            "'Bab 11-Ggl  imbas.pdf'\n",
            "'Bab 12-Arus AC.pdf'\n",
            "'Bab 1-Hk Coulomb.pdf'\n",
            "'Bab 2-Medan listrik.pdf'\n",
            "'Bab 3-Hukum Gauss.pdf'\n",
            "'Bab 4-Potensial listrik.pdf'\n",
            "'Bab 5-Kapasitor dan dielektrik.pdf'\n",
            "'Bab 6-Arus DC.pdf'\n",
            "'Bab 7-Gaya Lorentz.pdf'\n",
            "'Bab 8-Biot-Savart.pdf'\n",
            "'Bab 9-hukum ampere.pdf'\n",
            "'Bahasa Inggris I-20190815T123027Z-001.zip'\n",
            "'Berita tentang PSBB.mp4'\n",
            "\u001b[01;34m'BTO 5'\u001b[0m/\n",
            " \u001b[01;34mClassroom\u001b[0m/\n",
            "\u001b[01;34m'Colab Notebooks'\u001b[0m/\n",
            "'CONCLUDING  SENTENCE.ppsx'\n",
            "'Dana #8.PNG'\n",
            " daunhijau.jpg\n",
            " daun.jpg\n",
            "'Dokumen dari Shafira Amkha (1).pdf'\n",
            "'Dokumen dari Shafira Amkha.pdf'\n",
            "'Dokumen tanpa judul (1).gdoc'\n",
            "'Dokumen tanpa judul (2).gdoc'\n",
            "'Dokumen tanpa judul.gdoc'\n",
            "'E-book PPA Singapura 2019 fix.pdf'\n",
            " eceb8b20-16fc-11e9-9d0e-8de7df4fbc2e.pdf\n",
            "'E-sertifikat Tryout PTN 3334.pdf'\n",
            "'FLOWCHART TUBES DZAKAT.drawio'\n",
            "'HASIL TOPTNid INDONESIA BISA (SAINTEK).pdf'\n",
            "'hmtt telco.PNG'\n",
            "'hmtt telco shafira.PNG'\n",
            " InShot_20200915_100715311.mp4\n",
            "'INTRODUCTORY SENTENCE.ppsx'\n",
            " iot.PNG\n",
            " \u001b[01;34mJURNAL\u001b[0m/\n",
            "'klinik belajar.PNG'\n",
            "'KPST Revisi 1(30 april).gdoc'\n",
            "'Kuesioner Upaya Meningkatkan Kualitas Pendidikan Generasi Emas 2045 Melalui Observasi-Evaluasi Penerapan Pendidikan Karakter di Sekolah Dasar.gform'\n",
            "'Lab Talk.PNG'\n",
            "'Latihan 1 PTTPTT.docx'\n",
            "'LATIHAN PTT.docx'\n",
            " litik.docx\n",
            " Modul-01-Perkembangan-Tek-Tel-REVISI.pdf\n",
            " Modul-02-Konsep-Tek-Tel-REVISI.pdf\n",
            " Modul-03-Sinyal-REVISI.pdf\n",
            " Modul-04-Konversi-Sinyal.pdf\n",
            " Modul-06-MediaTransmisi-REVISI-ke-2.pdf\n",
            " Modul-07-Transmisi-REVISI.pdf\n",
            "'NIlai_S1 TT - Praktikum Fisika 1 A.gsheet'\n",
            " \u001b[01;34mnnmodel_scene\u001b[0m/\n",
            "'NO.1_SHAFIRA AMKHA ZAHRA_1101194111.pdf'\n",
            "'NO.2_SHAFIRA AMKHA ZAHRA_1101194111.pdf'\n",
            "'NO.3_SHAFIRA AMKHA ZAHRA_1101194111.pdf'\n",
            "'Panitia TE FIX.xlsx'\n",
            "'PATTERNS OF PARAGRAPH AND  TRANSIITON SIGNAL.ppt'\n",
            " perkenalan.pptx\n",
            "\u001b[01;36m'Persamaan Differensial dan Aplikasi (PDA)'\u001b[0m@\n",
            "'Poins 25 Juli.PNG'\n",
            "'poins 25 Juli sesi 2.PNG'\n",
            "'poins 25 juli sesi 3.PNG'\n",
            "'Prezi Telyu Final 1.0.exe'\n",
            "'Prezi Telyu Final 2.0.exe'\n",
            " qcard-1.docx\n",
            "'REKAPITULASI NILAI, KUNCI JAWABAN DAN PEMBAHASAN BTO 6 2019 BY OSC PWT.pdf'\n",
            "'Responsi Fisdas.pdf'\n",
            "'RESUME PPKN (SHAFIRA AMKHA ZAHRA) Materi UTS dan UAS-dikonversi (1).pdf'\n",
            "'RESUME PPKN (SHAFIRA AMKHA ZAHRA) Materi UTS dan UAS-dikonversi.pdf'\n",
            "'Rundown acara jadi bangetk bismillah.xlsx'\n",
            "'Rundown acara jadi bangetkneofne.xlsx'\n",
            "'RUNDOWN INSYAALLAH FIX BANGET bukan detail.xlsx'\n",
            "'Salinan terjemahan Dokumen tanpa judul (1).gdoc'\n",
            "'Salinan terjemahan Dokumen tanpa judul (2).gdoc'\n",
            "'Salinan terjemahan Dokumen tanpa judul (3).gdoc'\n",
            "'Salinan terjemahan Dokumen tanpa judul.gdoc'\n",
            "'Salinan terjemahan KPST Revisi 1(30 april).gdoc'\n",
            "'Screenshot (118).png'\n",
            " Screenshot_20200707-181417_Instagram.jpg\n",
            " Screenshot_20200707-183503_Instagram.jpg\n",
            " Screenshot_20200707-183549_Instagram.jpg\n",
            " Screenshot_20200707-183726_WhatsApp.jpg\n",
            " Screenshot_20200707-192455_WhatsApp.jpg\n",
            " Screenshot_20200707-195004_Instagram.jpg\n",
            " Screenshot_20200707-195033_Instagram.jpg\n",
            " Screenshot_20200707-195326_WhatsApp.jpg\n",
            " Screenshot_20200707-195337_WhatsApp.jpg\n",
            " Screenshot_20200707-195357_WhatsApp.jpg\n",
            " Screenshot_20200709-130027_Meet.jpg\n",
            " Screenshot_20200721-223244_Instagram.jpg\n",
            " Screenshot_20200721-223413_Instagram.jpg\n",
            " Screenshot_20200721-223442_YouTube.jpg\n",
            " Screenshot_20200722-191436_YouTube.jpg\n",
            "'Screenshot_20200727-171124_YouTube (1).jpg'\n",
            " Screenshot_20200727-171124_YouTube.jpg\n",
            "'Screenshot_20200727-171326_YouTube (1).jpg'\n",
            " Screenshot_20200727-171326_YouTube.jpg\n",
            "'Screenshot_20200727-171354_Instagram (1).jpg'\n",
            " Screenshot_20200727-171354_Instagram.jpg\n",
            "'Screenshot_20200727-171404_Instagram (1).jpg'\n",
            " Screenshot_20200727-171404_Instagram.jpg\n",
            " Screenshot_20200728-195102_Instagram.jpg\n",
            " Screenshot_20200728-195218_Instagram.jpg\n",
            " Screenshot_20200728-195328_YouTube.jpg\n",
            " Screenshot_20200731-215041_Instagram.jpg\n",
            " Screenshot_20200731-215103_Instagram.jpg\n",
            " Screenshot_20200731-215126_Instagram.jpg\n",
            " Screenshot_20200801-094525_Zoom.jpg\n",
            " Screenshot_20200801-135337_Zoom.jpg\n",
            " Screenshot_20200801-162515_WhatsApp.jpg\n",
            " Screenshot_20200801-162526_WhatsApp.jpg\n",
            " Screenshot_20200801-162534_WhatsApp.jpg\n",
            " Screenshot_20200801-162540_WhatsApp.jpg\n",
            " Screenshot_20200801-162548_WhatsApp.jpg\n",
            " Screenshot_20200801-163735_Instagram.jpg\n",
            " Screenshot_20200801-164104_WhatsApp.jpg\n",
            " Screenshot_20200801-164113_WhatsApp.jpg\n",
            " Screenshot_20200801-164120_WhatsApp.jpg\n",
            " Screenshot_20200801-164127_WhatsApp.jpg\n",
            " Screenshot_20200801-164133_WhatsApp.jpg\n",
            " Screenshot_20200801-194705_Instagram.jpg\n",
            " Screenshot_20200801-195549_Instagram.jpg\n",
            " Screenshot_20200801-201445_Zoom.jpg\n",
            " Screenshot_20200802-151846_YouTube.jpg\n",
            "'Screenshot_20200803-174106_Instagram (1).jpg'\n",
            "'Screenshot_20200803-174106_Instagram (2).jpg'\n",
            "'Screenshot_20200803-174106_Instagram (3).jpg'\n",
            " Screenshot_20200803-174106_Instagram.jpg\n",
            " Screenshot_20200803-174125_Instagram.jpg\n",
            "'Screenshot_20200803-174217_Instagram (1).jpg'\n",
            "'Screenshot_20200803-174217_Instagram (2).jpg'\n",
            " Screenshot_20200803-174217_Instagram.jpg\n",
            "'Screenshot_20200803-185557_Instagram (1).jpg'\n",
            " Screenshot_20200803-185557_Instagram.jpg\n",
            " Screenshot_20200805-100444_Instagram.jpg\n",
            " Screenshot_20200807-095155_Instagram.jpg\n",
            " Screenshot_20200808-112132_Zoom.jpg\n",
            " Screenshot_20200810-142624_Instagram.jpg\n",
            " Screenshot_20200815-100330_Zoom.jpg\n",
            " Screenshot_20200815-140529_Zoom.jpg\n",
            " Screenshot_20200815-200024_Zoom.jpg\n",
            " Screenshot_20200822-102830_Zoom.jpg\n",
            " Screenshot_20200822-135136_Zoom.jpg\n",
            "'Screenshot (51).png'\n",
            "'Screenshot (558).png'\n",
            "'Screenshot (771).png'\n",
            "'SELASA(1)_TT04(D)_SHAFIRA AMKHA ZAHRA_1101194111_KAP.jpg'\n",
            "'SELASA(1)_TT04(D)_SHAFIRA AMKHA ZAHRA_1101194111_KAP.pdf'\n",
            "'Serifikat Digital Talkshow #8 x BicaraDANA Shafira Amkha Zahra (1).pdf'\n",
            "'Serifikat Digital Talkshow #8 x BicaraDANA Shafira Amkha Zahra (2).pdf'\n",
            "'Serifikat Digital Talkshow #8 x BicaraDANA Shafira Amkha Zahra.pdf'\n",
            "\u001b[01;34m'SERTIFIKAT FIRA'\u001b[0m/\n",
            "'SERTIF PESERTA PPA_Nur Khotimah, S_Shafira Amkha Zahra.jpg'\n",
            "'Shafira Amkha Zahra (1101194111).pdf'\n",
            "'Shafira Amkha Zahra-1.pdf'\n",
            " Shafira-Amkha-Zahra.jpg\n",
            "'Shafira Amkha Zahra NYSRE Webinar Series Certificate Day 5.pdf'\n",
            "'Shafira Amkha Zahra NYSRE Webinar Series Certificate Day 6.pdf'\n",
            "'Shafira Amkha Zahra NYSRE Webinar Series Day 8 Certificate.pdf'\n",
            "'Shafira Amkha Zahra.pdf'\n",
            "'SHAFIRA AMKHA ZAHRA.pdf'\n",
            "'ss poins.PNG'\n",
            "'ss poinsss.PNG'\n",
            "'TEKNOLOGI 5G LITIK KELOMPOK 8.pdf'\n",
            "'TT4304_KELOMPOK 7_DZAKAT.rar'\n",
            "'TT4304 Shafira Amkha Zahra-Putri Nurani.docx'\n",
            "'TUBES 2 DZAKAT KELOMPOK 7 TT-43-04.rar'\n",
            "'TUGAS 4 RL_SHAFIRA AMKHA ZAHRA_1101194111_TT4304.pdf'\n",
            " \u001b[01;34mtugaspython11\u001b[0m/\n",
            "'WhatsApp Image 2020-10-26 at 10.01.19.jpeg'\n",
            "'zoom_0 (1).mp4'\n",
            " zoom_0.mp4\n"
          ],
          "name": "stdout"
        }
      ]
    },
    {
      "cell_type": "code",
      "metadata": {
        "id": "5IGm26ZzVGBs"
      },
      "source": [
        "# import the necessary packages\n",
        "from keras.models import Sequential\n",
        "from keras.layers.core import Activation\n",
        "from keras.layers.core import Flatten\n",
        "from keras.layers.core import Dense\n",
        "from keras.optimizers import Adam\n",
        "from sklearn.preprocessing import LabelBinarizer\n",
        "from sklearn.model_selection import train_test_split\n",
        "from sklearn.metrics import classification_report\n",
        "from PIL import Image\n",
        "from imutils import paths\n",
        "import numpy as np\n",
        "import os"
      ],
      "execution_count": null,
      "outputs": []
    },
    {
      "cell_type": "code",
      "metadata": {
        "id": "0-5PXYTsVGBw",
        "colab": {
          "base_uri": "https://localhost:8080/"
        },
        "outputId": "1db7d516-9743-49a9-a053-705a7b6b0766"
      },
      "source": [
        "# grab all image paths in the input dataset directory, then initialize\n",
        "# our list of images and corresponding class labels\n",
        "print(\"[INFO] loading images...\")\n",
        "imagePaths = paths.list_images(\"tugaspython11\")\n",
        "data = []\n",
        "labels = []"
      ],
      "execution_count": null,
      "outputs": [
        {
          "output_type": "stream",
          "text": [
            "[INFO] loading images...\n"
          ],
          "name": "stdout"
        }
      ]
    },
    {
      "cell_type": "code",
      "metadata": {
        "id": "9Q-KXSsGVGB0"
      },
      "source": [
        "# loop over our input images\n",
        "for imagePath in imagePaths:\n",
        "\t# load the input image from disk, resize it to 64x64 pixels, scale\n",
        "\t# the pixel intensities to the range [0, 1], and then update our\n",
        "\t# images list\n",
        "\timage = Image.open(imagePath)\n",
        "  #preprocessing\n",
        "\timage = np.array(image.resize((64, 64))) / 255.0 #normalisasi\n",
        "\tdata.append(image)\n",
        "\n",
        "\t# extract the class label from the file path and update the\n",
        "\t# labels list\n",
        "\tlabel = imagePath.split(os.path.sep)[-2]\n",
        "\tlabels.append(label)"
      ],
      "execution_count": 9,
      "outputs": []
    },
    {
      "cell_type": "code",
      "metadata": {
        "id": "Rzbolh88VGB2",
        "colab": {
          "base_uri": "https://localhost:8080/"
        },
        "outputId": "a0c4463a-1892-4212-c50d-a5e92514e0ae"
      },
      "source": [
        "print(labels)"
      ],
      "execution_count": 10,
      "outputs": [
        {
          "output_type": "stream",
          "text": [
            "['GMB_01', 'GMB_01', 'GMB_01', 'GMB_01', 'GMB_01', 'GMB_01', 'GMB_01', 'GMB_01', 'GMB_01', 'GMB_01', 'GMB_01', 'GMB_01', 'GMB_01', 'GMB_01', 'GMB_01', 'GMB_01', 'GMB_01', 'GMB_01', 'GMB_01', 'GMB_01', 'GMB_01', 'GMB_01', 'GMB_01', 'GMB_01', 'GMB_01', 'GMB_01', 'GMB_01', 'GMB_01', 'GMB_01', 'GMB_01', 'GMB_01', 'GMB_01', 'GMB_01', 'GMB_01', 'GMB_01', 'GMB_01', 'GMB_01', 'GMB_01', 'GMB_01', 'GMB_01', 'GMB_01', 'GMB_01', 'GMB_01', 'GMB_01', 'GMB_01', 'GMB_01', 'GMB_01', 'GMB_01', 'GMB_01', 'GMB_01', 'GMB_01', 'GMB_01', 'GMB_01', 'GMB_01', 'GMB_01', 'GMB_01', 'GMB_01', 'GMB_01', 'GMB_01', 'GMB_01', 'GMB_01', 'GMB_01', 'GMB_01', 'GMB_01', 'GMB_01', 'GMB_01', 'GMB_01', 'GMB_01', 'GMB_01', 'GMB_01', 'GMB_01', 'GMB_01', 'GMB_01', 'GMB_01', 'GMB_01', 'GMB_01', 'GMB_01', 'GMB_01', 'GMB_01', 'GMB_01', 'GMB_01', 'GMB_01', 'GMB_01', 'GMB_01', 'GMB_01', 'GMB_01', 'GMB_01', 'GMB_01', 'GMB_01', 'GMB_01', 'GMB_01', 'GMB_01', 'GMB_01', 'GMB_01', 'GMB_01', 'GMB_01', 'GMB_01', 'GMB_01', 'GMB_01', 'GMB_01', 'GMB_01', 'GMB_01', 'GMB_01', 'GMB_01', 'GMB_01', 'GMB_01', 'GMB_01', 'GMB_01', 'GMB_01', 'GMB_01', 'GMB_01', 'GMB_01', 'GMB_01', 'GMB_01', 'GMB_01', 'GMB_01', 'GMB_02', 'GMB_02', 'GMB_02', 'GMB_02', 'GMB_02', 'GMB_02', 'GMB_02', 'GMB_02', 'GMB_02', 'GMB_02', 'GMB_02', 'GMB_02', 'GMB_02', 'GMB_02', 'GMB_02', 'GMB_02', 'GMB_02', 'GMB_02', 'GMB_02', 'GMB_02', 'GMB_02', 'GMB_02', 'GMB_02', 'GMB_02', 'GMB_02', 'GMB_02', 'GMB_02', 'GMB_02', 'GMB_02', 'GMB_02', 'GMB_02', 'GMB_02', 'GMB_02', 'GMB_02', 'GMB_02', 'GMB_02', 'GMB_02', 'GMB_02', 'GMB_02', 'GMB_02', 'GMB_02', 'GMB_02', 'GMB_02', 'GMB_02', 'GMB_02', 'GMB_02', 'GMB_02', 'GMB_02', 'GMB_02', 'GMB_02', 'GMB_02', 'GMB_02', 'GMB_02', 'GMB_02', 'GMB_02', 'GMB_02', 'GMB_02', 'GMB_02', 'GMB_02', 'GMB_02', 'GMB_02', 'GMB_02', 'GMB_02', 'GMB_02', 'GMB_02', 'GMB_02', 'GMB_02', 'GMB_02', 'GMB_02', 'GMB_02', 'GMB_02', 'GMB_02', 'GMB_02', 'GMB_02', 'GMB_02', 'GMB_02', 'GMB_02', 'GMB_02', 'GMB_02', 'GMB_02', 'GMB_02', 'GMB_02', 'GMB_02', 'GMB_02', 'GMB_02', 'GMB_02', 'GMB_02', 'GMB_02', 'GMB_02', 'GMB_02', 'GMB_02', 'GMB_02', 'GMB_02', 'GMB_02', 'GMB_02', 'GMB_02', 'GMB_02', 'GMB_02', 'GMB_02', 'GMB_02', 'GMB_02', 'GMB_02', 'GMB_02', 'GMB_02', 'GMB_02', 'GMB_02', 'GMB_02', 'GMB_02', 'GMB_02', 'GMB_02', 'GMB_02', 'GMB_02', 'GMB_02', 'GMB_03', 'GMB_03', 'GMB_03', 'GMB_03', 'GMB_03', 'GMB_03', 'GMB_03', 'GMB_03', 'GMB_03', 'GMB_03', 'GMB_03', 'GMB_03', 'GMB_03', 'GMB_03', 'GMB_03', 'GMB_03', 'GMB_03', 'GMB_03', 'GMB_03', 'GMB_03', 'GMB_03', 'GMB_03', 'GMB_03', 'GMB_03', 'GMB_03', 'GMB_03', 'GMB_03', 'GMB_03', 'GMB_03', 'GMB_03', 'GMB_03', 'GMB_03', 'GMB_03', 'GMB_03', 'GMB_03', 'GMB_03', 'GMB_03', 'GMB_03', 'GMB_03', 'GMB_03', 'GMB_03', 'GMB_03', 'GMB_03', 'GMB_03', 'GMB_03', 'GMB_03', 'GMB_03', 'GMB_03', 'GMB_03', 'GMB_03', 'GMB_03', 'GMB_03', 'GMB_03', 'GMB_03', 'GMB_03', 'GMB_03', 'GMB_03', 'GMB_03', 'GMB_03', 'GMB_03', 'GMB_03', 'GMB_03', 'GMB_03', 'GMB_03', 'GMB_03', 'GMB_03', 'GMB_03', 'GMB_03', 'GMB_03', 'GMB_03', 'GMB_03', 'GMB_03', 'GMB_03', 'GMB_03', 'GMB_03', 'GMB_03', 'GMB_03', 'GMB_03', 'GMB_03', 'GMB_03', 'GMB_03', 'GMB_03', 'GMB_03', 'GMB_03', 'GMB_03', 'GMB_03', 'GMB_03', 'GMB_03', 'GMB_03', 'GMB_03', 'GMB_03', 'GMB_03', 'GMB_03', 'GMB_03', 'GMB_03', 'GMB_03', 'GMB_03', 'GMB_03', 'GMB_03', 'GMB_03', 'GMB_03', 'GMB_03', 'GMB_03', 'GMB_03', 'GMB_03', 'GMB_03', 'GMB_03', 'GMB_03', 'GMB_03', 'GMB_03', 'GMB_03', 'GMB_03', 'GMB_04', 'GMB_04', 'GMB_04', 'GMB_04', 'GMB_04', 'GMB_04', 'GMB_04', 'GMB_04', 'GMB_04', 'GMB_04', 'GMB_04', 'GMB_04', 'GMB_04', 'GMB_04', 'GMB_04', 'GMB_04', 'GMB_04', 'GMB_04', 'GMB_04', 'GMB_04', 'GMB_04', 'GMB_04', 'GMB_04', 'GMB_04', 'GMB_04', 'GMB_04', 'GMB_04', 'GMB_04', 'GMB_04', 'GMB_04', 'GMB_04', 'GMB_04', 'GMB_04', 'GMB_04', 'GMB_04', 'GMB_04', 'GMB_04', 'GMB_04', 'GMB_04', 'GMB_04', 'GMB_04', 'GMB_04', 'GMB_04', 'GMB_04', 'GMB_04', 'GMB_04', 'GMB_04', 'GMB_04', 'GMB_04', 'GMB_04', 'GMB_04', 'GMB_04', 'GMB_04', 'GMB_04', 'GMB_04', 'GMB_04', 'GMB_04', 'GMB_04', 'GMB_04', 'GMB_04', 'GMB_04', 'GMB_04', 'GMB_04', 'GMB_04', 'GMB_04', 'GMB_04', 'GMB_04', 'GMB_04', 'GMB_04', 'GMB_04', 'GMB_04', 'GMB_04', 'GMB_04', 'GMB_04', 'GMB_04', 'GMB_04', 'GMB_04', 'GMB_04', 'GMB_04', 'GMB_04', 'GMB_04', 'GMB_04', 'GMB_04', 'GMB_04', 'GMB_04', 'GMB_04', 'GMB_04', 'GMB_04', 'GMB_04', 'GMB_04', 'GMB_04', 'GMB_04', 'GMB_04', 'GMB_04', 'GMB_04', 'GMB_04', 'GMB_04', 'GMB_04', 'GMB_04', 'GMB_04', 'GMB_04', 'GMB_04', 'GMB_04', 'GMB_04', 'GMB_04', 'GMB_04', 'GMB_04', 'GMB_04', 'GMB_04', 'GMB_04', 'GMB_04', 'GMB_04', 'GMB_04', 'GMB_04', 'GMB_04', 'GMB_04', 'GMB_04', 'GMB_04', 'GMB_04', 'GMB_04', 'GMB_04', 'GMB_04', 'GMB_05', 'GMB_05', 'GMB_05', 'GMB_05', 'GMB_05', 'GMB_05', 'GMB_05', 'GMB_05', 'GMB_05', 'GMB_05', 'GMB_05', 'GMB_05', 'GMB_05', 'GMB_05', 'GMB_05', 'GMB_05', 'GMB_05', 'GMB_05', 'GMB_05', 'GMB_05', 'GMB_05', 'GMB_05', 'GMB_05', 'GMB_05', 'GMB_05', 'GMB_05', 'GMB_05', 'GMB_05', 'GMB_05', 'GMB_05', 'GMB_05', 'GMB_05', 'GMB_05', 'GMB_05', 'GMB_05', 'GMB_05', 'GMB_05', 'GMB_05', 'GMB_05', 'GMB_05', 'GMB_05', 'GMB_05', 'GMB_05', 'GMB_05', 'GMB_05', 'GMB_05', 'GMB_05', 'GMB_05', 'GMB_05', 'GMB_05', 'GMB_05', 'GMB_05', 'GMB_05', 'GMB_05', 'GMB_05', 'GMB_05', 'GMB_05', 'GMB_05', 'GMB_05', 'GMB_05', 'GMB_05', 'GMB_05', 'GMB_05', 'GMB_05', 'GMB_05', 'GMB_05', 'GMB_05', 'GMB_05', 'GMB_05', 'GMB_05', 'GMB_05', 'GMB_05', 'GMB_05', 'GMB_05', 'GMB_05', 'GMB_05', 'GMB_05', 'GMB_05', 'GMB_05', 'GMB_05', 'GMB_05', 'GMB_05', 'GMB_05', 'GMB_05', 'GMB_05', 'GMB_05', 'GMB_05', 'GMB_05', 'GMB_05', 'GMB_05', 'GMB_05', 'GMB_05', 'GMB_05', 'GMB_05', 'GMB_05', 'GMB_05', 'GMB_05', 'GMB_05', 'GMB_05', 'GMB_05', 'GMB_05', 'GMB_05', 'GMB_05', 'GMB_05', 'GMB_05', 'GMB_05', 'GMB_05', 'GMB_05', 'GMB_05', 'GMB_05', 'GMB_05', 'GMB_05', 'GMB_05', 'GMB_05', 'GMB_05', 'GMB_05', 'GMB_05', 'GMB_05', 'GMB_05', 'GMB_05', 'GMB_05']\n"
          ],
          "name": "stdout"
        }
      ]
    },
    {
      "cell_type": "code",
      "metadata": {
        "id": "twd1IeuKVGB5"
      },
      "source": [
        "# encode the labels, converting them from strings to integers\n",
        "lb = LabelBinarizer()\n",
        "labels = lb.fit_transform(labels)"
      ],
      "execution_count": 11,
      "outputs": []
    },
    {
      "cell_type": "code",
      "metadata": {
        "id": "5FPCyIqcVGB7",
        "colab": {
          "base_uri": "https://localhost:8080/"
        },
        "outputId": "11fa72f9-8fd7-4e9f-d6c6-f70ac77ae805"
      },
      "source": [
        "print(labels)"
      ],
      "execution_count": 12,
      "outputs": [
        {
          "output_type": "stream",
          "text": [
            "[[1 0 0 0 0]\n",
            " [1 0 0 0 0]\n",
            " [1 0 0 0 0]\n",
            " ...\n",
            " [0 0 0 0 1]\n",
            " [0 0 0 0 1]\n",
            " [0 0 0 0 1]]\n"
          ],
          "name": "stdout"
        }
      ]
    },
    {
      "cell_type": "code",
      "metadata": {
        "id": "ktZ5hNYwVGB9",
        "colab": {
          "base_uri": "https://localhost:8080/"
        },
        "outputId": "4eb5d408-dfbf-43e9-f0f6-a0ad67bf4ebd"
      },
      "source": [
        "# perform a training and testing split, using 75% of the data for\n",
        "# training and 25% for evaluation\n",
        "(trainX, testX, trainY, testY) = train_test_split(np.array(data),\tnp.array(labels), test_size=0.25, shuffle=True)\n",
        "print(trainX.shape)\n",
        "print(testX.shape)"
      ],
      "execution_count": 13,
      "outputs": [
        {
          "output_type": "stream",
          "text": [
            "(438, 64, 64, 3)\n",
            "(146, 64, 64, 3)\n"
          ],
          "name": "stdout"
        }
      ]
    },
    {
      "cell_type": "code",
      "metadata": {
        "colab": {
          "base_uri": "https://localhost:8080/"
        },
        "id": "MSxR7GLQvrUP",
        "outputId": "f5b74a1f-b0d6-465c-a784-b4d2427f7c33"
      },
      "source": [
        "from keras.layers import Convolution2D, MaxPool2D\n",
        "from keras.models import Sequential\n",
        "from keras.layers.core import Flatten, Dense\n",
        "\n",
        "model1 = Sequential()\n",
        "model1.add(Convolution2D(9, (4,4), activation='relu', input_shape=(64,64,3)))\n",
        "model1.add(MaxPool2D(2,2))\n",
        "model1.add(Convolution2D(18, (4,4), activation='relu'))\n",
        "model1.add(MaxPool2D(2,2))\n",
        "#fully connected layer\n",
        "model1.add(Flatten())\n",
        "model1.add(Dense(100, activation='relu'))\n",
        "model1.add(Dense(5, activation='softmax'))\n",
        "\n",
        "model1.summary()"
      ],
      "execution_count": 34,
      "outputs": [
        {
          "output_type": "stream",
          "text": [
            "Model: \"sequential_4\"\n",
            "_________________________________________________________________\n",
            "Layer (type)                 Output Shape              Param #   \n",
            "=================================================================\n",
            "conv2d_4 (Conv2D)            (None, 61, 61, 9)         441       \n",
            "_________________________________________________________________\n",
            "max_pooling2d_4 (MaxPooling2 (None, 30, 30, 9)         0         \n",
            "_________________________________________________________________\n",
            "conv2d_5 (Conv2D)            (None, 27, 27, 18)        2610      \n",
            "_________________________________________________________________\n",
            "max_pooling2d_5 (MaxPooling2 (None, 13, 13, 18)        0         \n",
            "_________________________________________________________________\n",
            "flatten_4 (Flatten)          (None, 3042)              0         \n",
            "_________________________________________________________________\n",
            "dense_4 (Dense)              (None, 100)               304300    \n",
            "_________________________________________________________________\n",
            "dense_5 (Dense)              (None, 5)                 505       \n",
            "=================================================================\n",
            "Total params: 307,856\n",
            "Trainable params: 307,856\n",
            "Non-trainable params: 0\n",
            "_________________________________________________________________\n"
          ],
          "name": "stdout"
        }
      ]
    },
    {
      "cell_type": "code",
      "metadata": {
        "id": "sny_9-wU8PGB"
      },
      "source": [
        "from keras.models import Sequential\n",
        "from keras.layers.core import Flatten\n",
        "from keras.layers.core import Dense\n",
        "\n",
        "model = Sequential(\n",
        "    [\n",
        "        Flatten(input_shape=(64*64*3,)),\n",
        "        Dense(100, activation=\"relu\", name=\"layer1\"),\n",
        "        Dense(16, activation=\"relu\", name=\"layer2\"),\n",
        "        Dense(16, activation=\"relu\", name=\"layer3\"),\n",
        "        Dense(3, activation = \"softmax\", name=\"layer4\"),\n",
        "    ]\n",
        ")"
      ],
      "execution_count": 35,
      "outputs": []
    },
    {
      "cell_type": "code",
      "metadata": {
        "id": "L0TdWxuFPkT3",
        "colab": {
          "base_uri": "https://localhost:8080/"
        },
        "outputId": "55972617-5837-4392-fbf8-e71e3b9c6521"
      },
      "source": [
        "model.summary()"
      ],
      "execution_count": 36,
      "outputs": [
        {
          "output_type": "stream",
          "text": [
            "Model: \"sequential_5\"\n",
            "_________________________________________________________________\n",
            "Layer (type)                 Output Shape              Param #   \n",
            "=================================================================\n",
            "flatten_5 (Flatten)          (None, 12288)             0         \n",
            "_________________________________________________________________\n",
            "layer1 (Dense)               (None, 100)               1228900   \n",
            "_________________________________________________________________\n",
            "layer2 (Dense)               (None, 16)                1616      \n",
            "_________________________________________________________________\n",
            "layer3 (Dense)               (None, 16)                272       \n",
            "_________________________________________________________________\n",
            "layer4 (Dense)               (None, 3)                 51        \n",
            "=================================================================\n",
            "Total params: 1,230,839\n",
            "Trainable params: 1,230,839\n",
            "Non-trainable params: 0\n",
            "_________________________________________________________________\n"
          ],
          "name": "stdout"
        }
      ]
    },
    {
      "cell_type": "code",
      "metadata": {
        "scrolled": true,
        "id": "ggcSdj_aVGCB",
        "colab": {
          "base_uri": "https://localhost:8080/"
        },
        "outputId": "a3579b1d-c707-41c2-e77f-adcd4a1ee8ec"
      },
      "source": [
        "# train the model using the Adam optimizer\n",
        "print(\"[INFO] training network...\")\n",
        "opt = Adam(lr=1e-3, decay=1e-3 / 50)\n",
        "model1.compile(loss=\"categorical_crossentropy\", optimizer=opt, metrics=[\"accuracy\"])"
      ],
      "execution_count": 37,
      "outputs": [
        {
          "output_type": "stream",
          "text": [
            "[INFO] training network...\n"
          ],
          "name": "stdout"
        }
      ]
    },
    {
      "cell_type": "code",
      "metadata": {
        "colab": {
          "base_uri": "https://localhost:8080/"
        },
        "id": "3bbMakb0w-XZ",
        "outputId": "78d56123-9044-4040-a362-9b3c7526b623"
      },
      "source": [
        "H = model1.fit(trainX, trainY, validation_data=(testX, testY), epochs=25, batch_size=32)"
      ],
      "execution_count": 38,
      "outputs": [
        {
          "output_type": "stream",
          "text": [
            "Epoch 1/25\n",
            "14/14 [==============================] - 0s 18ms/step - loss: 1.6241 - accuracy: 0.3242 - val_loss: 1.5380 - val_accuracy: 0.3699\n",
            "Epoch 2/25\n",
            "14/14 [==============================] - 0s 7ms/step - loss: 1.3875 - accuracy: 0.4726 - val_loss: 1.2713 - val_accuracy: 0.4521\n",
            "Epoch 3/25\n",
            "14/14 [==============================] - 0s 6ms/step - loss: 1.1586 - accuracy: 0.5411 - val_loss: 1.2215 - val_accuracy: 0.4658\n",
            "Epoch 4/25\n",
            "14/14 [==============================] - 0s 7ms/step - loss: 0.9727 - accuracy: 0.6416 - val_loss: 1.0970 - val_accuracy: 0.6164\n",
            "Epoch 5/25\n",
            "14/14 [==============================] - 0s 7ms/step - loss: 0.9328 - accuracy: 0.6461 - val_loss: 1.0059 - val_accuracy: 0.6233\n",
            "Epoch 6/25\n",
            "14/14 [==============================] - 0s 6ms/step - loss: 0.7919 - accuracy: 0.7192 - val_loss: 0.9199 - val_accuracy: 0.6370\n",
            "Epoch 7/25\n",
            "14/14 [==============================] - 0s 7ms/step - loss: 0.6888 - accuracy: 0.7557 - val_loss: 0.9018 - val_accuracy: 0.6301\n",
            "Epoch 8/25\n",
            "14/14 [==============================] - 0s 7ms/step - loss: 0.5888 - accuracy: 0.7763 - val_loss: 0.9641 - val_accuracy: 0.6370\n",
            "Epoch 9/25\n",
            "14/14 [==============================] - 0s 6ms/step - loss: 0.5763 - accuracy: 0.7763 - val_loss: 0.8469 - val_accuracy: 0.6164\n",
            "Epoch 10/25\n",
            "14/14 [==============================] - 0s 6ms/step - loss: 0.5252 - accuracy: 0.7900 - val_loss: 0.8371 - val_accuracy: 0.6027\n",
            "Epoch 11/25\n",
            "14/14 [==============================] - 0s 7ms/step - loss: 0.4464 - accuracy: 0.8356 - val_loss: 0.8626 - val_accuracy: 0.6712\n",
            "Epoch 12/25\n",
            "14/14 [==============================] - 0s 6ms/step - loss: 0.4026 - accuracy: 0.8653 - val_loss: 0.7181 - val_accuracy: 0.7260\n",
            "Epoch 13/25\n",
            "14/14 [==============================] - 0s 7ms/step - loss: 0.3573 - accuracy: 0.8584 - val_loss: 0.7031 - val_accuracy: 0.7192\n",
            "Epoch 14/25\n",
            "14/14 [==============================] - 0s 7ms/step - loss: 0.3071 - accuracy: 0.8904 - val_loss: 0.7004 - val_accuracy: 0.7534\n",
            "Epoch 15/25\n",
            "14/14 [==============================] - 0s 6ms/step - loss: 0.2764 - accuracy: 0.9064 - val_loss: 0.7220 - val_accuracy: 0.7329\n",
            "Epoch 16/25\n",
            "14/14 [==============================] - 0s 6ms/step - loss: 0.3018 - accuracy: 0.8904 - val_loss: 0.6893 - val_accuracy: 0.7397\n",
            "Epoch 17/25\n",
            "14/14 [==============================] - 0s 6ms/step - loss: 0.2312 - accuracy: 0.9315 - val_loss: 0.6901 - val_accuracy: 0.7740\n",
            "Epoch 18/25\n",
            "14/14 [==============================] - 0s 7ms/step - loss: 0.2428 - accuracy: 0.9110 - val_loss: 0.6407 - val_accuracy: 0.7603\n",
            "Epoch 19/25\n",
            "14/14 [==============================] - 0s 7ms/step - loss: 0.2406 - accuracy: 0.9178 - val_loss: 0.6367 - val_accuracy: 0.7945\n",
            "Epoch 20/25\n",
            "14/14 [==============================] - 0s 6ms/step - loss: 0.1815 - accuracy: 0.9475 - val_loss: 0.6405 - val_accuracy: 0.7740\n",
            "Epoch 21/25\n",
            "14/14 [==============================] - 0s 7ms/step - loss: 0.1684 - accuracy: 0.9521 - val_loss: 0.6165 - val_accuracy: 0.7671\n",
            "Epoch 22/25\n",
            "14/14 [==============================] - 0s 7ms/step - loss: 0.1398 - accuracy: 0.9658 - val_loss: 0.7007 - val_accuracy: 0.7603\n",
            "Epoch 23/25\n",
            "14/14 [==============================] - 0s 6ms/step - loss: 0.1371 - accuracy: 0.9566 - val_loss: 0.5841 - val_accuracy: 0.8151\n",
            "Epoch 24/25\n",
            "14/14 [==============================] - 0s 7ms/step - loss: 0.1004 - accuracy: 0.9840 - val_loss: 0.6306 - val_accuracy: 0.8151\n",
            "Epoch 25/25\n",
            "14/14 [==============================] - 0s 7ms/step - loss: 0.1155 - accuracy: 0.9589 - val_loss: 0.6507 - val_accuracy: 0.8082\n"
          ],
          "name": "stdout"
        }
      ]
    },
    {
      "cell_type": "code",
      "metadata": {
        "id": "98_oXi-lcgux",
        "colab": {
          "base_uri": "https://localhost:8080/",
          "height": 590
        },
        "outputId": "22c41ed4-71fc-46b1-8955-c3ea23e100a6"
      },
      "source": [
        "import matplotlib.pyplot as plt\n",
        "\n",
        "print(H.history.keys())\n",
        "# summarize history for accuracy\n",
        "plt.plot(H.history['accuracy'])\n",
        "plt.plot(H.history['val_accuracy'])\n",
        "plt.title('model accuracy')\n",
        "plt.ylabel('accuracy')\n",
        "plt.xlabel('epoch')\n",
        "plt.legend(['train', 'test'], loc='upper left')\n",
        "plt.show()\n",
        "# summarize history for loss\n",
        "plt.plot(H.history['loss'])\n",
        "plt.plot(H.history['val_loss'])\n",
        "plt.title('model loss')\n",
        "plt.ylabel('loss')\n",
        "plt.xlabel('epoch')\n",
        "plt.legend(['train', 'test'], loc='upper left')\n",
        "plt.show()"
      ],
      "execution_count": 39,
      "outputs": [
        {
          "output_type": "stream",
          "text": [
            "dict_keys(['loss', 'accuracy', 'val_loss', 'val_accuracy'])\n"
          ],
          "name": "stdout"
        },
        {
          "output_type": "display_data",
          "data": {
            "image/png": "[encoded data removed]",
            "text/plain": [
              "<Figure size 432x288 with 1 Axes>"
            ]
          },
          "metadata": {
            "tags": [],
            "needs_background": "light"
          }
        },
        {
          "output_type": "display_data",
          "data": {
            "image/png": "[encoded data removed]",
            "text/plain": [
              "<Figure size 432x288 with 1 Axes>"
            ]
          },
          "metadata": {
            "tags": [],
            "needs_background": "light"
          }
        }
      ]
    },
    {
      "cell_type": "code",
      "metadata": {
        "id": "lPAZkmBJVGCD",
        "colab": {
          "base_uri": "https://localhost:8080/"
        },
        "outputId": "2ba56a8a-e267-4070-b10e-6ff196480ffd"
      },
      "source": [
        "# evaluate the network\n",
        "print(\"[INFO] evaluating network...\")\n",
        "predictions = model1.predict(testX, batch_size=32)\n",
        "print(classification_report(testY.argmax(axis=1),\n",
        "\tpredictions.argmax(axis=1), target_names=lb.classes_))"
      ],
      "execution_count": 40,
      "outputs": [
        {
          "output_type": "stream",
          "text": [
            "[INFO] evaluating network...\n",
            "              precision    recall  f1-score   support\n",
            "\n",
            "      GMB_01       0.71      0.83      0.77        18\n",
            "      GMB_02       0.74      0.79      0.76        33\n",
            "      GMB_03       0.93      0.82      0.87        33\n",
            "      GMB_04       0.75      0.87      0.81        31\n",
            "      GMB_05       0.92      0.74      0.82        31\n",
            "\n",
            "    accuracy                           0.81       146\n",
            "   macro avg       0.81      0.81      0.81       146\n",
            "weighted avg       0.82      0.81      0.81       146\n",
            "\n"
          ],
          "name": "stdout"
        }
      ]
    },
    {
      "cell_type": "code",
      "metadata": {
        "id": "AOwJT2jLVGCN"
      },
      "source": [
        "import cv2\n",
        "import matplotlib.pyplot as plt\n",
        "image1='daun.jpg'"
      ],
      "execution_count": 41,
      "outputs": []
    },
    {
      "cell_type": "code",
      "metadata": {
        "id": "PkM68K4GVGCP",
        "colab": {
          "base_uri": "https://localhost:8080/",
          "height": 269
        },
        "outputId": "963ae9e9-f46e-432b-e601-82468f33fde9"
      },
      "source": [
        "img_array = cv2.imread(image1)\n",
        "plt.imshow(img_array)\n",
        "plt.show()\n",
        "# print(type(img_array))"
      ],
      "execution_count": 42,
      "outputs": [
        {
          "output_type": "display_data",
          "data": {
            "image/png": "[encoded data removed]",
            "text/plain": [
              "<Figure size 432x288 with 1 Axes>"
            ]
          },
          "metadata": {
            "tags": [],
            "needs_background": "light"
          }
        }
      ]
    },
    {
      "cell_type": "code",
      "metadata": {
        "id": "1ZkNY8LWVGCR",
        "colab": {
          "base_uri": "https://localhost:8080/"
        },
        "outputId": "aef3255f-0201-48ce-cfed-89260547dc7e"
      },
      "source": [
        "image_testing = Image.open('daun.jpg')\n",
        "image_testing = np.array(image_testing.resize((64, 64))) / 255.0\n",
        "image_testing.shape"
      ],
      "execution_count": 43,
      "outputs": [
        {
          "output_type": "execute_result",
          "data": {
            "text/plain": [
              "(64, 64, 3)"
            ]
          },
          "metadata": {
            "tags": []
          },
          "execution_count": 43
        }
      ]
    },
    {
      "cell_type": "code",
      "metadata": {
        "id": "qL66nfOcVGCT",
        "colab": {
          "base_uri": "https://localhost:8080/"
        },
        "outputId": "b7917bd9-529f-4ced-a025-4615d1e04249"
      },
      "source": [
        "image_testing = np.expand_dims(image_testing, axis=0)\n",
        "print(image_testing.shape)"
      ],
      "execution_count": 44,
      "outputs": [
        {
          "output_type": "stream",
          "text": [
            "(1, 64, 64, 3)\n"
          ],
          "name": "stdout"
        }
      ]
    },
    {
      "cell_type": "code",
      "metadata": {
        "id": "vTy9yP1AVGCV",
        "colab": {
          "base_uri": "https://localhost:8080/"
        },
        "outputId": "28d65ab1-5e44-437c-892a-ab9d72e5fd2f"
      },
      "source": [
        "output = model.predict(image_testing, 1)\n",
        "print(output)\n",
        "print(lb.classes_[output.argmax(axis=1)])"
      ],
      "execution_count": 45,
      "outputs": [
        {
          "output_type": "stream",
          "text": [
            "WARNING:tensorflow:Model was constructed with shape (None, 12288) for input Tensor(\"flatten_5_input:0\", shape=(None, 12288), dtype=float32), but it was called on an input with incompatible shape (1, 64, 64, 3).\n",
            "[[0.37618303 0.48627672 0.13754031]]\n",
            "['GMB_02']\n"
          ],
          "name": "stdout"
        }
      ]
    },
    {
      "cell_type": "code",
      "metadata": {
        "id": "cu5SSxXyiOs3"
      },
      "source": [
        ""
      ],
      "execution_count": null,
      "outputs": []
    }
  ]
}